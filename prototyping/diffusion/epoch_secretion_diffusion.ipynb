{
 "cells": [
  {
   "cell_type": "code",
   "execution_count": 1,
   "metadata": {},
   "outputs": [],
   "source": [
    "# Tool to aid in calculating how the concentration of a secreted factor varies over time and space under \n",
    "# diffusion given a SINGLE secretion event. \n",
    "# 3D space is assumed, hence 'distance' is distance from point of secretion in 3D. \n",
    "# Diffusion coefficients can be specified, as can the quantity secreted. \n",
    "# Take note of units. Currently in um, and for diffusion coeffients, um^2/s\n",
    "#\n",
    "# This tool can be used to calculate the range of chemotactic signal (or other signalling events), given a particular\n",
    "# cellular senstivity. \n",
    "#\n",
    "# Mark N. Read, 2018\n",
    "\n",
    "\n",
    "\n",
    "import numpy as np\n",
    "from matplotlib import cm\n",
    "import matplotlib.pyplot as plt"
   ]
  },
  {
   "cell_type": "code",
   "execution_count": 2,
   "metadata": {},
   "outputs": [],
   "source": [
    "def heat_eqn_solve(dist, dt, diffusion, quantity_secreted):\n",
    "    \"\"\"\n",
    "    dist = distances in um\n",
    "    dt = time since secretion event, in seconds\n",
    "    diffusion = in um^2/s\n",
    "    quantity_secreted = number of molecules\n",
    "    \"\"\"\n",
    "    dimensionality = 3\n",
    "    coeff = 1 / ( (4 * np.pi * diffusion * dt) ** (dimensionality/2) )  \n",
    "    diff = np.exp(-(dist*dist) / (4 * diffusion * dt))\n",
    "    return quantity_secreted * coeff * diff"
   ]
  },
  {
   "cell_type": "code",
   "execution_count": 3,
   "metadata": {},
   "outputs": [],
   "source": [
    "def draw_fig(Z, distances, time):\n",
    "    fig = plt.figure(figsize=(10, 10))\n",
    "    # Used for graphing, maximum point on graph. \n",
    "    extent = [min(distances), max(distances), min(time), max(time)]\n",
    "    ax = fig.gca()\n",
    "    im = ax.imshow(Z, extent=extent, origin='lower', aspect='auto')\n",
    "\n",
    "    Z_sorted = sorted(Z.flatten())[::-1]  # Sort then reverse.\n",
    "\n",
    "    # Pick m elements evenly spaced from [0, n]. Use as index into array. \n",
    "    f = lambda m, n: [i*n//m + n//(2*m) for i in range(m)]\n",
    "    level_indices = f(8, len(Z_sorted)//3)\n",
    "    levels = [Z_sorted[i] for i in level_indices][::-1]  # Put into increasing order\n",
    "    \n",
    "    print('contour levels = ' + str(levels))\n",
    "    \n",
    "    ct = ax.contour(Z, colors='white', extent=extent, origin='lower')#, levels=levels)\n",
    "    # Recast levels to new class\n",
    "#     ct.levels = [nf(val) for val in ct.levels]\n",
    "    plt.clabel(ct, fmt='%.1E', inline=True, fontsize=12)\n",
    "    fig.colorbar(im)\n",
    "    ax.set_xlabel('Distance from secretion source (um)')\n",
    "    ax.set_ylabel('Time (min)')\n",
    "    fig.tight_layout()\n",
    "    plt.show()"
   ]
  },
  {
   "cell_type": "code",
   "execution_count": 4,
   "metadata": {},
   "outputs": [],
   "source": [
    "def process(D, secretion_rate,  # In molecules/min\n",
    "               max_distance, max_time, debug=False):\n",
    "    samples = 100  # Resolution along each axis \n",
    "    distances = np.linspace(1, max_distance, samples)  # Microns. Distance from secretion point\n",
    "    times = np.linspace(max_time/samples, max_time, samples)  # Minutes\n",
    "    times *= 60  # Convert to seconds, match units of diffusion coeff.\n",
    "    timeslice = times[1] - times[0]\n",
    "    quantity_secreted = secretion_rate * timeslice  # Both expressed in minutes; quantity in molecules.\n",
    "    print('{:E} molecules secreted in {:.2f} seconds'.format(quantity_secreted, timeslice))\n",
    "    \n",
    "    # First index = time, second = distance. \n",
    "    Distances, Times = np.meshgrid(distances, times)  # X and Y locations (distances and times) for plot\n",
    "    \n",
    "    Z = np.zeros(Distances.shape)  # Store concentrations herein. \n",
    "    # Go through each time in turn, as past times require repeat heat eqn runs. \n",
    "    for t_i in list(range(Times.shape[0])):\n",
    "        dt = Times[t_i, 0]  # How long ago?\n",
    "        \n",
    "        if debug:\n",
    "            print('processing time {:f}'.format(dt))\n",
    "        \n",
    "        concentrations_at_time = heat_eqn_solve(Distances[t_i, :], dt, D, quantity_secreted)\n",
    "        Z[t_i, :] += concentrations_at_time\n",
    "        \n",
    "        \n",
    "#         while (dt > 0):  # Iterate through each time step. \n",
    "#             # Solve for all these distances in one go.\n",
    "#             concentrations_at_time = heat_eqn_solve(Distances[t_i, :], dt, D, quantity_secreted)            \n",
    "#             Z[t_i, :] += concentrations_at_time\n",
    "#             if debug:    \n",
    "#                 print('  processing iteration {:f}'.format(dt))\n",
    "#                 print('  ' + str(Distances[t_i, :]))\n",
    "#                 print('  ' + str(concentrations_at_time))\n",
    "#                 print('  ')\n",
    "#                 print('  ' + str(Z))\n",
    "    \n",
    "#             dt -= timeslice\n",
    "    if debug:\n",
    "        print(Distances)\n",
    "        print(Times)\n",
    "        print(Z)\n",
    "    draw_fig(Z, distances, times/60.)  # Convert times back to minutes"
   ]
  },
  {
   "cell_type": "code",
   "execution_count": 6,
   "metadata": {},
   "outputs": [
    {
     "name": "stdout",
     "output_type": "stream",
     "text": [
      "1.199880E+06 molecules secreted in 180.00 seconds\n",
      "contour levels = [1.5302075751879457e-05, 1.8822388993163124e-05, 2.3852339378856877e-05, 3.149563446954853e-05, 4.4420005814898223e-05, 7.083598966082918e-05, 0.00013713574911502422, 0.0004025923945844887]\n"
     ]
    },
    {
     "data": {
      "image/png": "[encoded data removed]",
      "text/plain": [
       "<Figure size 720x720 with 2 Axes>"
      ]
     },
     "metadata": {},
     "output_type": "display_data"
    }
   ],
   "source": [
    "# Note that diffusion coefficients typical have units cm^2/s. We need it to be in um^2/s. To convert from the \n",
    "# former to the latter, multiply by 1e8. \n",
    "#\n",
    "# For proteins of 10-50kDa, diffusion coefficient ~ 5e1 um^2/s. \n",
    "# For smaller molecules (e.g. LTB4), \n",
    "prot_D = 2.5e2  # um^2/s, diffusion coefficient\n",
    "secretion_rate = 6666  # molecules per minute \n",
    "process(prot_D, secretion_rate=secretion_rate, max_distance=750, max_time=300)"
   ]
  },
  {
   "cell_type": "code",
   "execution_count": 128,
   "metadata": {},
   "outputs": [
    {
     "data": {
      "text/plain": [
       "array([10,  9,  8,  7,  6,  5,  4,  3,  2])"
      ]
     },
     "execution_count": 128,
     "metadata": {},
     "output_type": "execute_result"
    }
   ],
   "source": [
    "np.arange(10,1, -1)"
   ]
  },
  {
   "cell_type": "code",
   "execution_count": null,
   "metadata": {},
   "outputs": [],
   "source": []
  }
 ],
 "metadata": {
  "kernelspec": {
   "display_name": "Python 3",
   "language": "python",
   "name": "python3"
  },
  "language_info": {
   "codemirror_mode": {
    "name": "ipython",
    "version": 3
   },
   "file_extension": ".py",
   "mimetype": "text/x-python",
   "name": "python",
   "nbconvert_exporter": "python",
   "pygments_lexer": "ipython3",
   "version": "3.6.5"
  }
 },
 "nbformat": 4,
 "nbformat_minor": 2
}
